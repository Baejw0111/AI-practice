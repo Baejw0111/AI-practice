{
 "cells": [
  {
   "cell_type": "code",
   "execution_count": 8,
   "metadata": {},
   "outputs": [],
   "source": [
    "import pandas as pd\n",
    "import numpy as np\n",
    "import torch\n",
    "from sklearn.preprocessing import StandardScaler\n",
    "\n",
    "from sklearn.metrics import r2_score\n",
    "from sklearn.model_selection import train_test_split"
   ]
  },
  {
   "cell_type": "code",
   "execution_count": 9,
   "metadata": {},
   "outputs": [],
   "source": [
    "train_X=pd.read_csv(\"pca_train.csv\")\n",
    "train_Y=pd.read_csv(\"train_label.csv\").label\n",
    "test_X=pd.read_csv(\"pca_test.csv\")"
   ]
  },
  {
   "cell_type": "code",
   "execution_count": 10,
   "metadata": {},
   "outputs": [],
   "source": [
    "x_train,x_val,y_train,y_val=train_test_split(\n",
    "    train_X,train_Y,random_state=777\n",
    ")"
   ]
  },
  {
   "cell_type": "code",
   "execution_count": 11,
   "metadata": {},
   "outputs": [],
   "source": [
    "scaler=StandardScaler()\n",
    "train_X_scale=scaler.fit_transform(x_train)\n",
    "val_X_scale=scaler.transform(x_val)\n",
    "test_X_scale=scaler.transform(test_X)"
   ]
  },
  {
   "cell_type": "code",
   "execution_count": 12,
   "metadata": {},
   "outputs": [
    {
     "name": "stderr",
     "output_type": "stream",
     "text": [
      "C:\\Users\\bjw01\\AppData\\Local\\Temp\\ipykernel_19148\\1027207712.py:1: UserWarning: Failed to initialize NumPy: module compiled against API version 0x10 but this version of numpy is 0xf (Triggered internally at  ..\\torch\\csrc\\utils\\tensor_numpy.cpp:68.)\n",
      "  train_X_tensor=torch.FloatTensor(train_X_scale)\n"
     ]
    }
   ],
   "source": [
    "train_X_tensor=torch.FloatTensor(train_X_scale)\n",
    "val_X_tensor=torch.FloatTensor(val_X_scale)\n",
    "test_X_tensor=torch.FloatTensor(test_X_scale)"
   ]
  },
  {
   "cell_type": "code",
   "execution_count": 13,
   "metadata": {},
   "outputs": [],
   "source": [
    "train_Y_tensor=torch.LongTensor(y_train)"
   ]
  },
  {
   "cell_type": "code",
   "execution_count": 14,
   "metadata": {},
   "outputs": [],
   "source": [
    "import torch.nn as nn\n",
    "import torch.nn.functional as F\n",
    "\n",
    "class Net(nn.Module):\n",
    "    def __init__(self):\n",
    "        super().__init__()\n",
    "        drop_prob=0.3\n",
    "        self.fc1=nn.Linear(256,198,bias=True)\n",
    "        self.fc2=nn.Linear(198,198,bias=True)\n",
    "        self.fc3=nn.Linear(198,198,bias=True)\n",
    "\n",
    "        self.fc4=nn.Linear(198,198)\n",
    "        self.relu=torch.nn.Sigmoid()\n",
    "        self.dropout=torch.nn.Dropout(p=drop_prob)\n",
    "\n",
    "        for m in self.modules():\n",
    "            if isinstance(m,nn.Linear):\n",
    "                nn.init.xavier_uniform_(m.weight.data)\n",
    "                if m.bias is not None:\n",
    "                    m.bias.data.zero_()\n",
    "\n",
    "    def forward(self,x):\n",
    "        x=self.fc1(x)\n",
    "        x=self.fc2(x)\n",
    "        x=self.fc3(x)\n",
    "        x=self.fc4(x)\n",
    "    \n",
    "        return x"
   ]
  },
  {
   "cell_type": "code",
   "execution_count": 15,
   "metadata": {},
   "outputs": [],
   "source": [
    "import torch.optim as optim\n",
    "net=Net()\n",
    "criterion=nn.CrossEntropyLoss()\n",
    "optimizer=optim.SGD(net.parameters(),lr=0.01)"
   ]
  },
  {
   "cell_type": "code",
   "execution_count": 19,
   "metadata": {},
   "outputs": [
    {
     "name": "stdout",
     "output_type": "stream",
     "text": [
      "0 5.830221652984619\n",
      "100 4.257011890411377\n",
      "200 3.276442766189575\n",
      "300 2.8519458770751953\n",
      "400 2.6318633556365967\n",
      "500 2.4909234046936035\n",
      "600 2.3833367824554443\n",
      "700 2.293797492980957\n",
      "800 2.216186046600342\n",
      "900 2.147749662399292\n",
      "1000 2.0870909690856934\n",
      "1100 2.0333211421966553\n",
      "1200 1.9854575395584106\n",
      "1300 1.9425201416015625\n",
      "1400 1.9036799669265747\n",
      "1500 1.868277668952942\n",
      "1600 1.8357831239700317\n",
      "1700 1.8057646751403809\n",
      "1800 1.777876377105713\n",
      "1900 1.7518455982208252\n"
     ]
    }
   ],
   "source": [
    "from sklearn.metrics import accuracy_score\n",
    "epoch=2000\n",
    "\n",
    "for i in range(2000):\n",
    "    optimizer.zero_grad()\n",
    "    outputs=net(train_X_tensor)\n",
    "    loss=criterion(outputs,train_Y_tensor)\n",
    "    loss.backward()\n",
    "    optimizer.step()\n",
    "\n",
    "    if i % 100 == 0:\n",
    "        print(i, loss.item())"
   ]
  },
  {
   "cell_type": "code",
   "execution_count": 23,
   "metadata": {},
   "outputs": [
    {
     "name": "stdout",
     "output_type": "stream",
     "text": [
      "tensor([[-0.7449, -2.1479, -0.4236,  ...,  1.0348, -0.4850,  1.1967],\n",
      "        [-0.5611,  1.1202,  0.1329,  ..., -1.9181, -1.6917,  0.5332],\n",
      "        [-3.1346, -1.1330, -3.1533,  ..., -1.4276,  0.5291, -0.2146],\n",
      "        ...,\n",
      "        [ 1.9555,  1.5535, -2.7393,  ..., -0.9010, -1.0183, -0.7856],\n",
      "        [ 1.5329, -0.1411, -1.0327,  ..., -1.5405, -0.8009, -0.2452],\n",
      "        [ 0.6483, -0.7290, -1.6017,  ..., -0.9854, -0.3363,  1.8604]])\n"
     ]
    }
   ],
   "source": [
    "with torch.no_grad():\n",
    "    hypothesis=net(train_X_tensor)\n",
    "    print(hypothesis)"
   ]
  }
 ],
 "metadata": {
  "kernelspec": {
   "display_name": "Python 3.10.2 64-bit",
   "language": "python",
   "name": "python3"
  },
  "language_info": {
   "codemirror_mode": {
    "name": "ipython",
    "version": 3
   },
   "file_extension": ".py",
   "mimetype": "text/x-python",
   "name": "python",
   "nbconvert_exporter": "python",
   "pygments_lexer": "ipython3",
   "version": "3.10.2"
  },
  "orig_nbformat": 4,
  "vscode": {
   "interpreter": {
    "hash": "5b31e8577c3492df978c98dac6179edf3340b968ce45f9e225a7705115bba9be"
   }
  }
 },
 "nbformat": 4,
 "nbformat_minor": 2
}
